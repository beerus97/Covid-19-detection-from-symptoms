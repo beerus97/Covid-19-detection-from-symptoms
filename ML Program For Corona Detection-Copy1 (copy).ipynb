{
 "cells": [
  {
   "cell_type": "code",
   "execution_count": 1,
   "metadata": {},
   "outputs": [],
   "source": [
    "import numpy as np # use for numerical calcuation,array,function\n",
    "import pandas as pd # use for data manipulation and analysis \n",
    "import matplotlib.pyplot as plt # use for plot visualization\n",
    "import seaborn as sns # use for data visualization\n",
    "%matplotlib inline\n",
    "import sys\n",
    "from sklearn.preprocessing import StandardScaler , Normalizer\n",
    "from sklearn.cluster import KMeans\n",
    "import warnings\n",
    "warnings.filterwarnings('ignore')\n",
    "from sklearn.metrics import classification_report,confusion_matrix\n",
    "from sklearn import metrics"
   ]
  },
  {
   "cell_type": "code",
   "execution_count": 2,
   "metadata": {},
   "outputs": [],
   "source": [
    "df=pd.read_csv('data.csv')"
   ]
  },
  {
   "cell_type": "code",
   "execution_count": 3,
   "metadata": {},
   "outputs": [
    {
     "data": {
      "text/html": [
       "<div>\n",
       "<style scoped>\n",
       "    .dataframe tbody tr th:only-of-type {\n",
       "        vertical-align: middle;\n",
       "    }\n",
       "\n",
       "    .dataframe tbody tr th {\n",
       "        vertical-align: top;\n",
       "    }\n",
       "\n",
       "    .dataframe thead th {\n",
       "        text-align: right;\n",
       "    }\n",
       "</style>\n",
       "<table border=\"1\" class=\"dataframe\">\n",
       "  <thead>\n",
       "    <tr style=\"text-align: right;\">\n",
       "      <th></th>\n",
       "      <th>bodyTemp</th>\n",
       "      <th>bodyPain</th>\n",
       "      <th>runnyNose</th>\n",
       "      <th>diffBreath</th>\n",
       "      <th>o2Saturation</th>\n",
       "      <th>travelHistory</th>\n",
       "      <th>age</th>\n",
       "      <th>LossofTasteSmell</th>\n",
       "      <th>vomiting</th>\n",
       "      <th>Diarrhea</th>\n",
       "      <th>infectionProb</th>\n",
       "    </tr>\n",
       "  </thead>\n",
       "  <tbody>\n",
       "    <tr>\n",
       "      <th>0</th>\n",
       "      <td>101.441399</td>\n",
       "      <td>1</td>\n",
       "      <td>0</td>\n",
       "      <td>-1</td>\n",
       "      <td>89</td>\n",
       "      <td>1</td>\n",
       "      <td>36</td>\n",
       "      <td>0</td>\n",
       "      <td>0</td>\n",
       "      <td>0</td>\n",
       "      <td>1</td>\n",
       "    </tr>\n",
       "    <tr>\n",
       "      <th>1</th>\n",
       "      <td>100.982812</td>\n",
       "      <td>0</td>\n",
       "      <td>0</td>\n",
       "      <td>-1</td>\n",
       "      <td>95</td>\n",
       "      <td>0</td>\n",
       "      <td>33</td>\n",
       "      <td>0</td>\n",
       "      <td>0</td>\n",
       "      <td>0</td>\n",
       "      <td>0</td>\n",
       "    </tr>\n",
       "    <tr>\n",
       "      <th>2</th>\n",
       "      <td>101.185510</td>\n",
       "      <td>0</td>\n",
       "      <td>1</td>\n",
       "      <td>-1</td>\n",
       "      <td>92</td>\n",
       "      <td>0</td>\n",
       "      <td>96</td>\n",
       "      <td>1</td>\n",
       "      <td>0</td>\n",
       "      <td>0</td>\n",
       "      <td>0</td>\n",
       "    </tr>\n",
       "    <tr>\n",
       "      <th>3</th>\n",
       "      <td>99.841183</td>\n",
       "      <td>1</td>\n",
       "      <td>1</td>\n",
       "      <td>1</td>\n",
       "      <td>78</td>\n",
       "      <td>1</td>\n",
       "      <td>65</td>\n",
       "      <td>1</td>\n",
       "      <td>0</td>\n",
       "      <td>1</td>\n",
       "      <td>1</td>\n",
       "    </tr>\n",
       "    <tr>\n",
       "      <th>4</th>\n",
       "      <td>99.167192</td>\n",
       "      <td>0</td>\n",
       "      <td>0</td>\n",
       "      <td>1</td>\n",
       "      <td>76</td>\n",
       "      <td>1</td>\n",
       "      <td>84</td>\n",
       "      <td>0</td>\n",
       "      <td>1</td>\n",
       "      <td>0</td>\n",
       "      <td>1</td>\n",
       "    </tr>\n",
       "    <tr>\n",
       "      <th>5</th>\n",
       "      <td>101.137272</td>\n",
       "      <td>1</td>\n",
       "      <td>1</td>\n",
       "      <td>0</td>\n",
       "      <td>56</td>\n",
       "      <td>1</td>\n",
       "      <td>67</td>\n",
       "      <td>0</td>\n",
       "      <td>0</td>\n",
       "      <td>1</td>\n",
       "      <td>1</td>\n",
       "    </tr>\n",
       "    <tr>\n",
       "      <th>6</th>\n",
       "      <td>99.573732</td>\n",
       "      <td>0</td>\n",
       "      <td>1</td>\n",
       "      <td>-1</td>\n",
       "      <td>66</td>\n",
       "      <td>0</td>\n",
       "      <td>48</td>\n",
       "      <td>0</td>\n",
       "      <td>0</td>\n",
       "      <td>0</td>\n",
       "      <td>0</td>\n",
       "    </tr>\n",
       "    <tr>\n",
       "      <th>7</th>\n",
       "      <td>100.691629</td>\n",
       "      <td>1</td>\n",
       "      <td>0</td>\n",
       "      <td>1</td>\n",
       "      <td>90</td>\n",
       "      <td>1</td>\n",
       "      <td>75</td>\n",
       "      <td>1</td>\n",
       "      <td>1</td>\n",
       "      <td>1</td>\n",
       "      <td>1</td>\n",
       "    </tr>\n",
       "    <tr>\n",
       "      <th>8</th>\n",
       "      <td>101.973323</td>\n",
       "      <td>1</td>\n",
       "      <td>0</td>\n",
       "      <td>1</td>\n",
       "      <td>61</td>\n",
       "      <td>1</td>\n",
       "      <td>49</td>\n",
       "      <td>0</td>\n",
       "      <td>0</td>\n",
       "      <td>0</td>\n",
       "      <td>0</td>\n",
       "    </tr>\n",
       "    <tr>\n",
       "      <th>9</th>\n",
       "      <td>98.749612</td>\n",
       "      <td>1</td>\n",
       "      <td>1</td>\n",
       "      <td>0</td>\n",
       "      <td>50</td>\n",
       "      <td>1</td>\n",
       "      <td>10</td>\n",
       "      <td>0</td>\n",
       "      <td>0</td>\n",
       "      <td>1</td>\n",
       "      <td>1</td>\n",
       "    </tr>\n",
       "    <tr>\n",
       "      <th>10</th>\n",
       "      <td>100.315625</td>\n",
       "      <td>0</td>\n",
       "      <td>1</td>\n",
       "      <td>1</td>\n",
       "      <td>57</td>\n",
       "      <td>1</td>\n",
       "      <td>89</td>\n",
       "      <td>1</td>\n",
       "      <td>0</td>\n",
       "      <td>1</td>\n",
       "      <td>1</td>\n",
       "    </tr>\n",
       "    <tr>\n",
       "      <th>11</th>\n",
       "      <td>98.357745</td>\n",
       "      <td>0</td>\n",
       "      <td>1</td>\n",
       "      <td>0</td>\n",
       "      <td>95</td>\n",
       "      <td>1</td>\n",
       "      <td>8</td>\n",
       "      <td>0</td>\n",
       "      <td>0</td>\n",
       "      <td>1</td>\n",
       "      <td>0</td>\n",
       "    </tr>\n",
       "    <tr>\n",
       "      <th>12</th>\n",
       "      <td>99.352266</td>\n",
       "      <td>1</td>\n",
       "      <td>0</td>\n",
       "      <td>1</td>\n",
       "      <td>52</td>\n",
       "      <td>0</td>\n",
       "      <td>44</td>\n",
       "      <td>0</td>\n",
       "      <td>1</td>\n",
       "      <td>0</td>\n",
       "      <td>1</td>\n",
       "    </tr>\n",
       "    <tr>\n",
       "      <th>13</th>\n",
       "      <td>101.548704</td>\n",
       "      <td>0</td>\n",
       "      <td>1</td>\n",
       "      <td>1</td>\n",
       "      <td>65</td>\n",
       "      <td>1</td>\n",
       "      <td>61</td>\n",
       "      <td>0</td>\n",
       "      <td>1</td>\n",
       "      <td>0</td>\n",
       "      <td>1</td>\n",
       "    </tr>\n",
       "    <tr>\n",
       "      <th>14</th>\n",
       "      <td>100.763833</td>\n",
       "      <td>1</td>\n",
       "      <td>0</td>\n",
       "      <td>-1</td>\n",
       "      <td>52</td>\n",
       "      <td>0</td>\n",
       "      <td>59</td>\n",
       "      <td>0</td>\n",
       "      <td>1</td>\n",
       "      <td>1</td>\n",
       "      <td>1</td>\n",
       "    </tr>\n",
       "    <tr>\n",
       "      <th>15</th>\n",
       "      <td>99.671493</td>\n",
       "      <td>1</td>\n",
       "      <td>0</td>\n",
       "      <td>-1</td>\n",
       "      <td>95</td>\n",
       "      <td>0</td>\n",
       "      <td>52</td>\n",
       "      <td>0</td>\n",
       "      <td>0</td>\n",
       "      <td>1</td>\n",
       "      <td>0</td>\n",
       "    </tr>\n",
       "    <tr>\n",
       "      <th>16</th>\n",
       "      <td>98.531619</td>\n",
       "      <td>1</td>\n",
       "      <td>1</td>\n",
       "      <td>1</td>\n",
       "      <td>68</td>\n",
       "      <td>0</td>\n",
       "      <td>10</td>\n",
       "      <td>1</td>\n",
       "      <td>0</td>\n",
       "      <td>1</td>\n",
       "      <td>1</td>\n",
       "    </tr>\n",
       "    <tr>\n",
       "      <th>17</th>\n",
       "      <td>101.493547</td>\n",
       "      <td>1</td>\n",
       "      <td>1</td>\n",
       "      <td>0</td>\n",
       "      <td>73</td>\n",
       "      <td>1</td>\n",
       "      <td>32</td>\n",
       "      <td>1</td>\n",
       "      <td>0</td>\n",
       "      <td>0</td>\n",
       "      <td>1</td>\n",
       "    </tr>\n",
       "    <tr>\n",
       "      <th>18</th>\n",
       "      <td>101.154809</td>\n",
       "      <td>0</td>\n",
       "      <td>1</td>\n",
       "      <td>0</td>\n",
       "      <td>93</td>\n",
       "      <td>1</td>\n",
       "      <td>64</td>\n",
       "      <td>0</td>\n",
       "      <td>1</td>\n",
       "      <td>0</td>\n",
       "      <td>1</td>\n",
       "    </tr>\n",
       "    <tr>\n",
       "      <th>19</th>\n",
       "      <td>100.601893</td>\n",
       "      <td>1</td>\n",
       "      <td>1</td>\n",
       "      <td>1</td>\n",
       "      <td>88</td>\n",
       "      <td>0</td>\n",
       "      <td>97</td>\n",
       "      <td>0</td>\n",
       "      <td>0</td>\n",
       "      <td>1</td>\n",
       "      <td>1</td>\n",
       "    </tr>\n",
       "  </tbody>\n",
       "</table>\n",
       "</div>"
      ],
      "text/plain": [
       "      bodyTemp  bodyPain  runnyNose  diffBreath  o2Saturation  travelHistory  \\\n",
       "0   101.441399         1          0          -1            89              1   \n",
       "1   100.982812         0          0          -1            95              0   \n",
       "2   101.185510         0          1          -1            92              0   \n",
       "3    99.841183         1          1           1            78              1   \n",
       "4    99.167192         0          0           1            76              1   \n",
       "5   101.137272         1          1           0            56              1   \n",
       "6    99.573732         0          1          -1            66              0   \n",
       "7   100.691629         1          0           1            90              1   \n",
       "8   101.973323         1          0           1            61              1   \n",
       "9    98.749612         1          1           0            50              1   \n",
       "10  100.315625         0          1           1            57              1   \n",
       "11   98.357745         0          1           0            95              1   \n",
       "12   99.352266         1          0           1            52              0   \n",
       "13  101.548704         0          1           1            65              1   \n",
       "14  100.763833         1          0          -1            52              0   \n",
       "15   99.671493         1          0          -1            95              0   \n",
       "16   98.531619         1          1           1            68              0   \n",
       "17  101.493547         1          1           0            73              1   \n",
       "18  101.154809         0          1           0            93              1   \n",
       "19  100.601893         1          1           1            88              0   \n",
       "\n",
       "    age  LossofTasteSmell  vomiting  Diarrhea  infectionProb  \n",
       "0    36                 0         0         0              1  \n",
       "1    33                 0         0         0              0  \n",
       "2    96                 1         0         0              0  \n",
       "3    65                 1         0         1              1  \n",
       "4    84                 0         1         0              1  \n",
       "5    67                 0         0         1              1  \n",
       "6    48                 0         0         0              0  \n",
       "7    75                 1         1         1              1  \n",
       "8    49                 0         0         0              0  \n",
       "9    10                 0         0         1              1  \n",
       "10   89                 1         0         1              1  \n",
       "11    8                 0         0         1              0  \n",
       "12   44                 0         1         0              1  \n",
       "13   61                 0         1         0              1  \n",
       "14   59                 0         1         1              1  \n",
       "15   52                 0         0         1              0  \n",
       "16   10                 1         0         1              1  \n",
       "17   32                 1         0         0              1  \n",
       "18   64                 0         1         0              1  \n",
       "19   97                 0         0         1              1  "
      ]
     },
     "execution_count": 3,
     "metadata": {},
     "output_type": "execute_result"
    }
   ],
   "source": [
    "df.head(20)\n"
   ]
  },
  {
   "cell_type": "markdown",
   "metadata": {},
   "source": [
    "# DATASET  DESCRIPTION:\n",
    "bodyTemp : Temprature o the body\n",
    "\n",
    "bodyPain: Wether patient is feeling body pain or not\n",
    "\n",
    "runnyNose: Wether nose is runny or not\n",
    "\n",
    "diffBreath: Wether patient feeling difficulty in breathing\n",
    "\n",
    "o2Saturation: the measure of O2 by oximeter\n",
    "\n",
    "travelHistory: wether person have travel history or not\n",
    "\n",
    "age: Age of the person\n",
    "\n",
    "LossofTasteSmell: wether the person lost sense of taste and smell or not\n",
    "\n",
    "Diarrhea: Wether person is suffering from diarrhea or not\n",
    "\n",
    "\n",
    "infecProb : Wether corona present or not"
   ]
  },
  {
   "cell_type": "code",
   "execution_count": 4,
   "metadata": {},
   "outputs": [
    {
     "data": {
      "text/html": [
       "<div>\n",
       "<style scoped>\n",
       "    .dataframe tbody tr th:only-of-type {\n",
       "        vertical-align: middle;\n",
       "    }\n",
       "\n",
       "    .dataframe tbody tr th {\n",
       "        vertical-align: top;\n",
       "    }\n",
       "\n",
       "    .dataframe thead th {\n",
       "        text-align: right;\n",
       "    }\n",
       "</style>\n",
       "<table border=\"1\" class=\"dataframe\">\n",
       "  <thead>\n",
       "    <tr style=\"text-align: right;\">\n",
       "      <th></th>\n",
       "      <th>bodyTemp</th>\n",
       "      <th>bodyPain</th>\n",
       "      <th>runnyNose</th>\n",
       "      <th>diffBreath</th>\n",
       "      <th>o2Saturation</th>\n",
       "      <th>travelHistory</th>\n",
       "      <th>age</th>\n",
       "      <th>LossofTasteSmell</th>\n",
       "      <th>vomiting</th>\n",
       "      <th>Diarrhea</th>\n",
       "      <th>infectionProb</th>\n",
       "    </tr>\n",
       "  </thead>\n",
       "  <tbody>\n",
       "    <tr>\n",
       "      <th>2494</th>\n",
       "      <td>99.947438</td>\n",
       "      <td>0</td>\n",
       "      <td>1</td>\n",
       "      <td>1</td>\n",
       "      <td>95</td>\n",
       "      <td>0</td>\n",
       "      <td>17</td>\n",
       "      <td>1</td>\n",
       "      <td>1</td>\n",
       "      <td>1</td>\n",
       "      <td>0</td>\n",
       "    </tr>\n",
       "    <tr>\n",
       "      <th>2495</th>\n",
       "      <td>98.350472</td>\n",
       "      <td>0</td>\n",
       "      <td>0</td>\n",
       "      <td>0</td>\n",
       "      <td>92</td>\n",
       "      <td>0</td>\n",
       "      <td>84</td>\n",
       "      <td>0</td>\n",
       "      <td>0</td>\n",
       "      <td>0</td>\n",
       "      <td>0</td>\n",
       "    </tr>\n",
       "    <tr>\n",
       "      <th>2496</th>\n",
       "      <td>100.196342</td>\n",
       "      <td>0</td>\n",
       "      <td>1</td>\n",
       "      <td>1</td>\n",
       "      <td>92</td>\n",
       "      <td>0</td>\n",
       "      <td>72</td>\n",
       "      <td>1</td>\n",
       "      <td>1</td>\n",
       "      <td>0</td>\n",
       "      <td>0</td>\n",
       "    </tr>\n",
       "    <tr>\n",
       "      <th>2497</th>\n",
       "      <td>98.933927</td>\n",
       "      <td>0</td>\n",
       "      <td>0</td>\n",
       "      <td>-1</td>\n",
       "      <td>88</td>\n",
       "      <td>1</td>\n",
       "      <td>98</td>\n",
       "      <td>0</td>\n",
       "      <td>0</td>\n",
       "      <td>1</td>\n",
       "      <td>1</td>\n",
       "    </tr>\n",
       "    <tr>\n",
       "      <th>2498</th>\n",
       "      <td>100.194224</td>\n",
       "      <td>1</td>\n",
       "      <td>0</td>\n",
       "      <td>0</td>\n",
       "      <td>61</td>\n",
       "      <td>1</td>\n",
       "      <td>8</td>\n",
       "      <td>0</td>\n",
       "      <td>0</td>\n",
       "      <td>1</td>\n",
       "      <td>1</td>\n",
       "    </tr>\n",
       "  </tbody>\n",
       "</table>\n",
       "</div>"
      ],
      "text/plain": [
       "        bodyTemp  bodyPain  runnyNose  diffBreath  o2Saturation  \\\n",
       "2494   99.947438         0          1           1            95   \n",
       "2495   98.350472         0          0           0            92   \n",
       "2496  100.196342         0          1           1            92   \n",
       "2497   98.933927         0          0          -1            88   \n",
       "2498  100.194224         1          0           0            61   \n",
       "\n",
       "      travelHistory  age  LossofTasteSmell  vomiting  Diarrhea  infectionProb  \n",
       "2494              0   17                 1         1         1              0  \n",
       "2495              0   84                 0         0         0              0  \n",
       "2496              0   72                 1         1         0              0  \n",
       "2497              1   98                 0         0         1              1  \n",
       "2498              1    8                 0         0         1              1  "
      ]
     },
     "execution_count": 4,
     "metadata": {},
     "output_type": "execute_result"
    }
   ],
   "source": [
    "df.tail()"
   ]
  },
  {
   "cell_type": "code",
   "execution_count": 5,
   "metadata": {},
   "outputs": [
    {
     "name": "stdout",
     "output_type": "stream",
     "text": [
      "<class 'pandas.core.frame.DataFrame'>\n",
      "RangeIndex: 2499 entries, 0 to 2498\n",
      "Data columns (total 11 columns):\n",
      " #   Column            Non-Null Count  Dtype  \n",
      "---  ------            --------------  -----  \n",
      " 0   bodyTemp          2499 non-null   float64\n",
      " 1   bodyPain          2499 non-null   int64  \n",
      " 2   runnyNose         2499 non-null   int64  \n",
      " 3   diffBreath        2499 non-null   int64  \n",
      " 4   o2Saturation      2499 non-null   int64  \n",
      " 5   travelHistory     2499 non-null   int64  \n",
      " 6   age               2499 non-null   int64  \n",
      " 7   LossofTasteSmell  2499 non-null   int64  \n",
      " 8   vomiting          2499 non-null   int64  \n",
      " 9   Diarrhea          2499 non-null   int64  \n",
      " 10  infectionProb     2499 non-null   int64  \n",
      "dtypes: float64(1), int64(10)\n",
      "memory usage: 214.9 KB\n"
     ]
    }
   ],
   "source": [
    "df.info()"
   ]
  },
  {
   "cell_type": "code",
   "execution_count": 6,
   "metadata": {},
   "outputs": [
    {
     "data": {
      "text/plain": [
       "101.441399    99\n",
       "100.982812    97\n",
       "99.841183     66\n",
       "101.137272    64\n",
       "99.167192     64\n",
       "              ..\n",
       "100.753163     1\n",
       "101.140293     1\n",
       "101.790601     1\n",
       "98.732287      1\n",
       "99.832280      1\n",
       "Name: bodyTemp, Length: 532, dtype: int64"
      ]
     },
     "execution_count": 6,
     "metadata": {},
     "output_type": "execute_result"
    }
   ],
   "source": [
    "df['bodyTemp'].value_counts()"
   ]
  },
  {
   "cell_type": "code",
   "execution_count": 7,
   "metadata": {},
   "outputs": [
    {
     "data": {
      "text/html": [
       "<div>\n",
       "<style scoped>\n",
       "    .dataframe tbody tr th:only-of-type {\n",
       "        vertical-align: middle;\n",
       "    }\n",
       "\n",
       "    .dataframe tbody tr th {\n",
       "        vertical-align: top;\n",
       "    }\n",
       "\n",
       "    .dataframe thead th {\n",
       "        text-align: right;\n",
       "    }\n",
       "</style>\n",
       "<table border=\"1\" class=\"dataframe\">\n",
       "  <thead>\n",
       "    <tr style=\"text-align: right;\">\n",
       "      <th></th>\n",
       "      <th>bodyTemp</th>\n",
       "      <th>bodyPain</th>\n",
       "      <th>runnyNose</th>\n",
       "      <th>diffBreath</th>\n",
       "      <th>o2Saturation</th>\n",
       "      <th>travelHistory</th>\n",
       "      <th>age</th>\n",
       "      <th>LossofTasteSmell</th>\n",
       "      <th>vomiting</th>\n",
       "      <th>Diarrhea</th>\n",
       "      <th>infectionProb</th>\n",
       "    </tr>\n",
       "  </thead>\n",
       "  <tbody>\n",
       "    <tr>\n",
       "      <th>count</th>\n",
       "      <td>2499.000000</td>\n",
       "      <td>2499.000000</td>\n",
       "      <td>2499.000000</td>\n",
       "      <td>2499.000000</td>\n",
       "      <td>2499.000000</td>\n",
       "      <td>2499.000000</td>\n",
       "      <td>2499.000000</td>\n",
       "      <td>2499.000000</td>\n",
       "      <td>2499.0000</td>\n",
       "      <td>2499.000000</td>\n",
       "      <td>2499.000000</td>\n",
       "    </tr>\n",
       "    <tr>\n",
       "      <th>mean</th>\n",
       "      <td>100.138546</td>\n",
       "      <td>0.422569</td>\n",
       "      <td>0.601841</td>\n",
       "      <td>-0.010804</td>\n",
       "      <td>78.124050</td>\n",
       "      <td>0.519008</td>\n",
       "      <td>46.514206</td>\n",
       "      <td>0.259704</td>\n",
       "      <td>0.5002</td>\n",
       "      <td>0.455782</td>\n",
       "      <td>0.536214</td>\n",
       "    </tr>\n",
       "    <tr>\n",
       "      <th>std</th>\n",
       "      <td>1.096522</td>\n",
       "      <td>0.494067</td>\n",
       "      <td>0.489617</td>\n",
       "      <td>0.848091</td>\n",
       "      <td>15.053887</td>\n",
       "      <td>0.499739</td>\n",
       "      <td>26.990734</td>\n",
       "      <td>0.438560</td>\n",
       "      <td>0.5001</td>\n",
       "      <td>0.498141</td>\n",
       "      <td>0.498787</td>\n",
       "    </tr>\n",
       "    <tr>\n",
       "      <th>min</th>\n",
       "      <td>98.015804</td>\n",
       "      <td>0.000000</td>\n",
       "      <td>0.000000</td>\n",
       "      <td>-1.000000</td>\n",
       "      <td>50.000000</td>\n",
       "      <td>0.000000</td>\n",
       "      <td>1.000000</td>\n",
       "      <td>0.000000</td>\n",
       "      <td>0.0000</td>\n",
       "      <td>0.000000</td>\n",
       "      <td>0.000000</td>\n",
       "    </tr>\n",
       "    <tr>\n",
       "      <th>25%</th>\n",
       "      <td>99.179472</td>\n",
       "      <td>0.000000</td>\n",
       "      <td>0.000000</td>\n",
       "      <td>-1.000000</td>\n",
       "      <td>66.000000</td>\n",
       "      <td>0.000000</td>\n",
       "      <td>25.000000</td>\n",
       "      <td>0.000000</td>\n",
       "      <td>0.0000</td>\n",
       "      <td>0.000000</td>\n",
       "      <td>0.000000</td>\n",
       "    </tr>\n",
       "    <tr>\n",
       "      <th>50%</th>\n",
       "      <td>100.196342</td>\n",
       "      <td>0.000000</td>\n",
       "      <td>1.000000</td>\n",
       "      <td>0.000000</td>\n",
       "      <td>83.000000</td>\n",
       "      <td>1.000000</td>\n",
       "      <td>42.000000</td>\n",
       "      <td>0.000000</td>\n",
       "      <td>1.0000</td>\n",
       "      <td>0.000000</td>\n",
       "      <td>1.000000</td>\n",
       "    </tr>\n",
       "    <tr>\n",
       "      <th>75%</th>\n",
       "      <td>101.137272</td>\n",
       "      <td>1.000000</td>\n",
       "      <td>1.000000</td>\n",
       "      <td>1.000000</td>\n",
       "      <td>92.000000</td>\n",
       "      <td>1.000000</td>\n",
       "      <td>67.000000</td>\n",
       "      <td>1.000000</td>\n",
       "      <td>1.0000</td>\n",
       "      <td>1.000000</td>\n",
       "      <td>1.000000</td>\n",
       "    </tr>\n",
       "    <tr>\n",
       "      <th>max</th>\n",
       "      <td>101.998962</td>\n",
       "      <td>1.000000</td>\n",
       "      <td>1.000000</td>\n",
       "      <td>1.000000</td>\n",
       "      <td>95.000000</td>\n",
       "      <td>1.000000</td>\n",
       "      <td>100.000000</td>\n",
       "      <td>1.000000</td>\n",
       "      <td>1.0000</td>\n",
       "      <td>1.000000</td>\n",
       "      <td>1.000000</td>\n",
       "    </tr>\n",
       "  </tbody>\n",
       "</table>\n",
       "</div>"
      ],
      "text/plain": [
       "          bodyTemp     bodyPain    runnyNose   diffBreath  o2Saturation  \\\n",
       "count  2499.000000  2499.000000  2499.000000  2499.000000   2499.000000   \n",
       "mean    100.138546     0.422569     0.601841    -0.010804     78.124050   \n",
       "std       1.096522     0.494067     0.489617     0.848091     15.053887   \n",
       "min      98.015804     0.000000     0.000000    -1.000000     50.000000   \n",
       "25%      99.179472     0.000000     0.000000    -1.000000     66.000000   \n",
       "50%     100.196342     0.000000     1.000000     0.000000     83.000000   \n",
       "75%     101.137272     1.000000     1.000000     1.000000     92.000000   \n",
       "max     101.998962     1.000000     1.000000     1.000000     95.000000   \n",
       "\n",
       "       travelHistory          age  LossofTasteSmell   vomiting     Diarrhea  \\\n",
       "count    2499.000000  2499.000000       2499.000000  2499.0000  2499.000000   \n",
       "mean        0.519008    46.514206          0.259704     0.5002     0.455782   \n",
       "std         0.499739    26.990734          0.438560     0.5001     0.498141   \n",
       "min         0.000000     1.000000          0.000000     0.0000     0.000000   \n",
       "25%         0.000000    25.000000          0.000000     0.0000     0.000000   \n",
       "50%         1.000000    42.000000          0.000000     1.0000     0.000000   \n",
       "75%         1.000000    67.000000          1.000000     1.0000     1.000000   \n",
       "max         1.000000   100.000000          1.000000     1.0000     1.000000   \n",
       "\n",
       "       infectionProb  \n",
       "count    2499.000000  \n",
       "mean        0.536214  \n",
       "std         0.498787  \n",
       "min         0.000000  \n",
       "25%         0.000000  \n",
       "50%         1.000000  \n",
       "75%         1.000000  \n",
       "max         1.000000  "
      ]
     },
     "execution_count": 7,
     "metadata": {},
     "output_type": "execute_result"
    }
   ],
   "source": [
    "df.describe()"
   ]
  },
  {
   "cell_type": "markdown",
   "metadata": {},
   "source": [
    "## Spliting the data\n"
   ]
  },
  {
   "cell_type": "code",
   "execution_count": 8,
   "metadata": {},
   "outputs": [],
   "source": [
    "import numpy as np"
   ]
  },
  {
   "cell_type": "code",
   "execution_count": 9,
   "metadata": {},
   "outputs": [],
   "source": [
    "def data_split(data,ratio):\n",
    "    np.random.seed(42)\n",
    "    shuffled=np.random.permutation(len(data))\n",
    "    test_set_size= int(len(data)*ratio)\n",
    "    test_indices= shuffled[:test_set_size]\n",
    "    train_indices= shuffled[test_set_size:]\n",
    "    return data.iloc[train_indices], data.iloc[test_indices]"
   ]
  },
  {
   "cell_type": "code",
   "execution_count": 10,
   "metadata": {},
   "outputs": [],
   "source": [
    "train,test=data_split(df,0.2)"
   ]
  },
  {
   "cell_type": "code",
   "execution_count": 11,
   "metadata": {},
   "outputs": [
    {
     "data": {
      "text/html": [
       "<div>\n",
       "<style scoped>\n",
       "    .dataframe tbody tr th:only-of-type {\n",
       "        vertical-align: middle;\n",
       "    }\n",
       "\n",
       "    .dataframe tbody tr th {\n",
       "        vertical-align: top;\n",
       "    }\n",
       "\n",
       "    .dataframe thead th {\n",
       "        text-align: right;\n",
       "    }\n",
       "</style>\n",
       "<table border=\"1\" class=\"dataframe\">\n",
       "  <thead>\n",
       "    <tr style=\"text-align: right;\">\n",
       "      <th></th>\n",
       "      <th>bodyTemp</th>\n",
       "      <th>bodyPain</th>\n",
       "      <th>runnyNose</th>\n",
       "      <th>diffBreath</th>\n",
       "      <th>o2Saturation</th>\n",
       "      <th>travelHistory</th>\n",
       "      <th>age</th>\n",
       "      <th>LossofTasteSmell</th>\n",
       "      <th>vomiting</th>\n",
       "      <th>Diarrhea</th>\n",
       "      <th>infectionProb</th>\n",
       "    </tr>\n",
       "  </thead>\n",
       "  <tbody>\n",
       "    <tr>\n",
       "      <th>461</th>\n",
       "      <td>99.825482</td>\n",
       "      <td>0</td>\n",
       "      <td>1</td>\n",
       "      <td>-1</td>\n",
       "      <td>92</td>\n",
       "      <td>0</td>\n",
       "      <td>19</td>\n",
       "      <td>0</td>\n",
       "      <td>1</td>\n",
       "      <td>0</td>\n",
       "      <td>0</td>\n",
       "    </tr>\n",
       "    <tr>\n",
       "      <th>109</th>\n",
       "      <td>99.573732</td>\n",
       "      <td>0</td>\n",
       "      <td>1</td>\n",
       "      <td>-1</td>\n",
       "      <td>66</td>\n",
       "      <td>0</td>\n",
       "      <td>48</td>\n",
       "      <td>0</td>\n",
       "      <td>0</td>\n",
       "      <td>0</td>\n",
       "      <td>0</td>\n",
       "    </tr>\n",
       "    <tr>\n",
       "      <th>2296</th>\n",
       "      <td>99.831461</td>\n",
       "      <td>1</td>\n",
       "      <td>0</td>\n",
       "      <td>0</td>\n",
       "      <td>75</td>\n",
       "      <td>1</td>\n",
       "      <td>5</td>\n",
       "      <td>0</td>\n",
       "      <td>1</td>\n",
       "      <td>1</td>\n",
       "      <td>0</td>\n",
       "    </tr>\n",
       "    <tr>\n",
       "      <th>354</th>\n",
       "      <td>101.152159</td>\n",
       "      <td>0</td>\n",
       "      <td>1</td>\n",
       "      <td>0</td>\n",
       "      <td>92</td>\n",
       "      <td>0</td>\n",
       "      <td>25</td>\n",
       "      <td>0</td>\n",
       "      <td>1</td>\n",
       "      <td>0</td>\n",
       "      <td>0</td>\n",
       "    </tr>\n",
       "    <tr>\n",
       "      <th>266</th>\n",
       "      <td>100.691629</td>\n",
       "      <td>1</td>\n",
       "      <td>0</td>\n",
       "      <td>1</td>\n",
       "      <td>90</td>\n",
       "      <td>1</td>\n",
       "      <td>75</td>\n",
       "      <td>1</td>\n",
       "      <td>1</td>\n",
       "      <td>1</td>\n",
       "      <td>1</td>\n",
       "    </tr>\n",
       "    <tr>\n",
       "      <th>...</th>\n",
       "      <td>...</td>\n",
       "      <td>...</td>\n",
       "      <td>...</td>\n",
       "      <td>...</td>\n",
       "      <td>...</td>\n",
       "      <td>...</td>\n",
       "      <td>...</td>\n",
       "      <td>...</td>\n",
       "      <td>...</td>\n",
       "      <td>...</td>\n",
       "      <td>...</td>\n",
       "    </tr>\n",
       "    <tr>\n",
       "      <th>1638</th>\n",
       "      <td>98.216911</td>\n",
       "      <td>1</td>\n",
       "      <td>0</td>\n",
       "      <td>1</td>\n",
       "      <td>70</td>\n",
       "      <td>1</td>\n",
       "      <td>62</td>\n",
       "      <td>0</td>\n",
       "      <td>1</td>\n",
       "      <td>0</td>\n",
       "      <td>1</td>\n",
       "    </tr>\n",
       "    <tr>\n",
       "      <th>1095</th>\n",
       "      <td>101.051166</td>\n",
       "      <td>0</td>\n",
       "      <td>1</td>\n",
       "      <td>1</td>\n",
       "      <td>67</td>\n",
       "      <td>0</td>\n",
       "      <td>14</td>\n",
       "      <td>0</td>\n",
       "      <td>1</td>\n",
       "      <td>1</td>\n",
       "      <td>1</td>\n",
       "    </tr>\n",
       "    <tr>\n",
       "      <th>1130</th>\n",
       "      <td>100.308015</td>\n",
       "      <td>0</td>\n",
       "      <td>0</td>\n",
       "      <td>-1</td>\n",
       "      <td>95</td>\n",
       "      <td>1</td>\n",
       "      <td>32</td>\n",
       "      <td>0</td>\n",
       "      <td>1</td>\n",
       "      <td>0</td>\n",
       "      <td>0</td>\n",
       "    </tr>\n",
       "    <tr>\n",
       "      <th>1294</th>\n",
       "      <td>100.982812</td>\n",
       "      <td>0</td>\n",
       "      <td>0</td>\n",
       "      <td>-1</td>\n",
       "      <td>95</td>\n",
       "      <td>0</td>\n",
       "      <td>33</td>\n",
       "      <td>0</td>\n",
       "      <td>0</td>\n",
       "      <td>0</td>\n",
       "      <td>0</td>\n",
       "    </tr>\n",
       "    <tr>\n",
       "      <th>860</th>\n",
       "      <td>101.933292</td>\n",
       "      <td>0</td>\n",
       "      <td>0</td>\n",
       "      <td>1</td>\n",
       "      <td>85</td>\n",
       "      <td>0</td>\n",
       "      <td>70</td>\n",
       "      <td>1</td>\n",
       "      <td>1</td>\n",
       "      <td>1</td>\n",
       "      <td>0</td>\n",
       "    </tr>\n",
       "  </tbody>\n",
       "</table>\n",
       "<p>2000 rows × 11 columns</p>\n",
       "</div>"
      ],
      "text/plain": [
       "        bodyTemp  bodyPain  runnyNose  diffBreath  o2Saturation  \\\n",
       "461    99.825482         0          1          -1            92   \n",
       "109    99.573732         0          1          -1            66   \n",
       "2296   99.831461         1          0           0            75   \n",
       "354   101.152159         0          1           0            92   \n",
       "266   100.691629         1          0           1            90   \n",
       "...          ...       ...        ...         ...           ...   \n",
       "1638   98.216911         1          0           1            70   \n",
       "1095  101.051166         0          1           1            67   \n",
       "1130  100.308015         0          0          -1            95   \n",
       "1294  100.982812         0          0          -1            95   \n",
       "860   101.933292         0          0           1            85   \n",
       "\n",
       "      travelHistory  age  LossofTasteSmell  vomiting  Diarrhea  infectionProb  \n",
       "461               0   19                 0         1         0              0  \n",
       "109               0   48                 0         0         0              0  \n",
       "2296              1    5                 0         1         1              0  \n",
       "354               0   25                 0         1         0              0  \n",
       "266               1   75                 1         1         1              1  \n",
       "...             ...  ...               ...       ...       ...            ...  \n",
       "1638              1   62                 0         1         0              1  \n",
       "1095              0   14                 0         1         1              1  \n",
       "1130              1   32                 0         1         0              0  \n",
       "1294              0   33                 0         0         0              0  \n",
       "860               0   70                 1         1         1              0  \n",
       "\n",
       "[2000 rows x 11 columns]"
      ]
     },
     "execution_count": 11,
     "metadata": {},
     "output_type": "execute_result"
    }
   ],
   "source": [
    "train"
   ]
  },
  {
   "cell_type": "code",
   "execution_count": 12,
   "metadata": {},
   "outputs": [
    {
     "data": {
      "text/html": [
       "<div>\n",
       "<style scoped>\n",
       "    .dataframe tbody tr th:only-of-type {\n",
       "        vertical-align: middle;\n",
       "    }\n",
       "\n",
       "    .dataframe tbody tr th {\n",
       "        vertical-align: top;\n",
       "    }\n",
       "\n",
       "    .dataframe thead th {\n",
       "        text-align: right;\n",
       "    }\n",
       "</style>\n",
       "<table border=\"1\" class=\"dataframe\">\n",
       "  <thead>\n",
       "    <tr style=\"text-align: right;\">\n",
       "      <th></th>\n",
       "      <th>bodyTemp</th>\n",
       "      <th>bodyPain</th>\n",
       "      <th>runnyNose</th>\n",
       "      <th>diffBreath</th>\n",
       "      <th>o2Saturation</th>\n",
       "      <th>travelHistory</th>\n",
       "      <th>age</th>\n",
       "      <th>LossofTasteSmell</th>\n",
       "      <th>vomiting</th>\n",
       "      <th>Diarrhea</th>\n",
       "      <th>infectionProb</th>\n",
       "    </tr>\n",
       "  </thead>\n",
       "  <tbody>\n",
       "    <tr>\n",
       "      <th>2319</th>\n",
       "      <td>98.357745</td>\n",
       "      <td>0</td>\n",
       "      <td>1</td>\n",
       "      <td>0</td>\n",
       "      <td>95</td>\n",
       "      <td>1</td>\n",
       "      <td>8</td>\n",
       "      <td>0</td>\n",
       "      <td>0</td>\n",
       "      <td>1</td>\n",
       "      <td>0</td>\n",
       "    </tr>\n",
       "    <tr>\n",
       "      <th>1865</th>\n",
       "      <td>100.601893</td>\n",
       "      <td>1</td>\n",
       "      <td>1</td>\n",
       "      <td>1</td>\n",
       "      <td>88</td>\n",
       "      <td>0</td>\n",
       "      <td>97</td>\n",
       "      <td>0</td>\n",
       "      <td>0</td>\n",
       "      <td>1</td>\n",
       "      <td>1</td>\n",
       "    </tr>\n",
       "    <tr>\n",
       "      <th>902</th>\n",
       "      <td>101.501663</td>\n",
       "      <td>0</td>\n",
       "      <td>0</td>\n",
       "      <td>-1</td>\n",
       "      <td>50</td>\n",
       "      <td>0</td>\n",
       "      <td>25</td>\n",
       "      <td>0</td>\n",
       "      <td>0</td>\n",
       "      <td>0</td>\n",
       "      <td>0</td>\n",
       "    </tr>\n",
       "    <tr>\n",
       "      <th>2240</th>\n",
       "      <td>100.763833</td>\n",
       "      <td>1</td>\n",
       "      <td>0</td>\n",
       "      <td>-1</td>\n",
       "      <td>52</td>\n",
       "      <td>0</td>\n",
       "      <td>59</td>\n",
       "      <td>0</td>\n",
       "      <td>1</td>\n",
       "      <td>1</td>\n",
       "      <td>1</td>\n",
       "    </tr>\n",
       "    <tr>\n",
       "      <th>1285</th>\n",
       "      <td>101.051166</td>\n",
       "      <td>0</td>\n",
       "      <td>1</td>\n",
       "      <td>1</td>\n",
       "      <td>67</td>\n",
       "      <td>0</td>\n",
       "      <td>14</td>\n",
       "      <td>0</td>\n",
       "      <td>1</td>\n",
       "      <td>1</td>\n",
       "      <td>1</td>\n",
       "    </tr>\n",
       "    <tr>\n",
       "      <th>...</th>\n",
       "      <td>...</td>\n",
       "      <td>...</td>\n",
       "      <td>...</td>\n",
       "      <td>...</td>\n",
       "      <td>...</td>\n",
       "      <td>...</td>\n",
       "      <td>...</td>\n",
       "      <td>...</td>\n",
       "      <td>...</td>\n",
       "      <td>...</td>\n",
       "      <td>...</td>\n",
       "    </tr>\n",
       "    <tr>\n",
       "      <th>1037</th>\n",
       "      <td>98.933927</td>\n",
       "      <td>0</td>\n",
       "      <td>0</td>\n",
       "      <td>-1</td>\n",
       "      <td>88</td>\n",
       "      <td>1</td>\n",
       "      <td>98</td>\n",
       "      <td>0</td>\n",
       "      <td>0</td>\n",
       "      <td>1</td>\n",
       "      <td>1</td>\n",
       "    </tr>\n",
       "    <tr>\n",
       "      <th>2054</th>\n",
       "      <td>101.548704</td>\n",
       "      <td>0</td>\n",
       "      <td>1</td>\n",
       "      <td>1</td>\n",
       "      <td>65</td>\n",
       "      <td>1</td>\n",
       "      <td>61</td>\n",
       "      <td>0</td>\n",
       "      <td>1</td>\n",
       "      <td>0</td>\n",
       "      <td>1</td>\n",
       "    </tr>\n",
       "    <tr>\n",
       "      <th>1860</th>\n",
       "      <td>101.493547</td>\n",
       "      <td>1</td>\n",
       "      <td>1</td>\n",
       "      <td>0</td>\n",
       "      <td>73</td>\n",
       "      <td>1</td>\n",
       "      <td>32</td>\n",
       "      <td>1</td>\n",
       "      <td>0</td>\n",
       "      <td>0</td>\n",
       "      <td>1</td>\n",
       "    </tr>\n",
       "    <tr>\n",
       "      <th>1862</th>\n",
       "      <td>98.482715</td>\n",
       "      <td>0</td>\n",
       "      <td>1</td>\n",
       "      <td>1</td>\n",
       "      <td>52</td>\n",
       "      <td>0</td>\n",
       "      <td>44</td>\n",
       "      <td>0</td>\n",
       "      <td>1</td>\n",
       "      <td>1</td>\n",
       "      <td>0</td>\n",
       "    </tr>\n",
       "    <tr>\n",
       "      <th>1151</th>\n",
       "      <td>99.501306</td>\n",
       "      <td>0</td>\n",
       "      <td>1</td>\n",
       "      <td>-1</td>\n",
       "      <td>95</td>\n",
       "      <td>0</td>\n",
       "      <td>37</td>\n",
       "      <td>0</td>\n",
       "      <td>0</td>\n",
       "      <td>1</td>\n",
       "      <td>0</td>\n",
       "    </tr>\n",
       "  </tbody>\n",
       "</table>\n",
       "<p>499 rows × 11 columns</p>\n",
       "</div>"
      ],
      "text/plain": [
       "        bodyTemp  bodyPain  runnyNose  diffBreath  o2Saturation  \\\n",
       "2319   98.357745         0          1           0            95   \n",
       "1865  100.601893         1          1           1            88   \n",
       "902   101.501663         0          0          -1            50   \n",
       "2240  100.763833         1          0          -1            52   \n",
       "1285  101.051166         0          1           1            67   \n",
       "...          ...       ...        ...         ...           ...   \n",
       "1037   98.933927         0          0          -1            88   \n",
       "2054  101.548704         0          1           1            65   \n",
       "1860  101.493547         1          1           0            73   \n",
       "1862   98.482715         0          1           1            52   \n",
       "1151   99.501306         0          1          -1            95   \n",
       "\n",
       "      travelHistory  age  LossofTasteSmell  vomiting  Diarrhea  infectionProb  \n",
       "2319              1    8                 0         0         1              0  \n",
       "1865              0   97                 0         0         1              1  \n",
       "902               0   25                 0         0         0              0  \n",
       "2240              0   59                 0         1         1              1  \n",
       "1285              0   14                 0         1         1              1  \n",
       "...             ...  ...               ...       ...       ...            ...  \n",
       "1037              1   98                 0         0         1              1  \n",
       "2054              1   61                 0         1         0              1  \n",
       "1860              1   32                 1         0         0              1  \n",
       "1862              0   44                 0         1         1              0  \n",
       "1151              0   37                 0         0         1              0  \n",
       "\n",
       "[499 rows x 11 columns]"
      ]
     },
     "execution_count": 12,
     "metadata": {},
     "output_type": "execute_result"
    }
   ],
   "source": [
    "test\n"
   ]
  },
  {
   "cell_type": "markdown",
   "metadata": {},
   "source": [
    "# CORRELATION"
   ]
  },
  {
   "cell_type": "code",
   "execution_count": 13,
   "metadata": {},
   "outputs": [
    {
     "data": {
      "image/png": "[encoded data removed]",
      "text/plain": [
       "<Figure size 1152x432 with 2 Axes>"
      ]
     },
     "metadata": {
      "needs_background": "light"
     },
     "output_type": "display_data"
    }
   ],
   "source": [
    "plt.figure(figsize=(16, 6))\n",
    "# Store heatmap object in a variable to easily access it when you want to include more features (such as title).\n",
    "# Set the range of values to be displayed on the colormap from -1 to 1, and set the annotation to True to display the correlation values on the heatmap.\n",
    "heatmap = sns.heatmap(df.corr(), vmin=-1, vmax=1, annot=True)\n",
    "# Give a title to the heatmap. Pad defines the distance of the title from the top of the heatmap.\n",
    "heatmap.set_title('Correlation Heatmap', fontdict={'fontsize':12}, pad=12);"
   ]
  },
  {
   "cell_type": "markdown",
   "metadata": {},
   "source": [
    "## convert in to numpy array"
   ]
  },
  {
   "cell_type": "code",
   "execution_count": 14,
   "metadata": {},
   "outputs": [
    {
     "name": "stdout",
     "output_type": "stream",
     "text": [
      "[[ 99.8254821    0.           1.         ...   0.           1.\n",
      "    0.        ]\n",
      " [ 99.5737325    0.           1.         ...   0.           0.\n",
      "    0.        ]\n",
      " [ 99.83146071   1.           0.         ...   0.           1.\n",
      "    1.        ]\n",
      " ...\n",
      " [100.3080155    0.           0.         ...   0.           1.\n",
      "    0.        ]\n",
      " [100.982812     0.           0.         ...   0.           0.\n",
      "    0.        ]\n",
      " [101.9332921    0.           0.         ...   1.           1.\n",
      "    1.        ]]\n"
     ]
    },
    {
     "data": {
      "text/plain": [
       "(2000, 10)"
      ]
     },
     "execution_count": 14,
     "metadata": {},
     "output_type": "execute_result"
    }
   ],
   "source": [
    "x_train=train[['bodyTemp','bodyPain','runnyNose','diffBreath','o2Saturation','travelHistory','age','LossofTasteSmell','vomiting','Diarrhea']].to_numpy()\n",
    "print(x_train)\n",
    "x_train.shape"
   ]
  },
  {
   "cell_type": "code",
   "execution_count": 15,
   "metadata": {},
   "outputs": [
    {
     "name": "stdout",
     "output_type": "stream",
     "text": [
      "[[ 98.35774456   0.           1.         ...   0.           0.\n",
      "    1.        ]\n",
      " [100.6018931    1.           1.         ...   0.           0.\n",
      "    1.        ]\n",
      " [101.5016629    0.           0.         ...   0.           0.\n",
      "    0.        ]\n",
      " ...\n",
      " [101.493547     1.           1.         ...   1.           0.\n",
      "    0.        ]\n",
      " [ 98.48271543   0.           1.         ...   0.           1.\n",
      "    1.        ]\n",
      " [ 99.50130631   0.           1.         ...   0.           0.\n",
      "    1.        ]]\n"
     ]
    },
    {
     "data": {
      "text/plain": [
       "(499, 10)"
      ]
     },
     "execution_count": 15,
     "metadata": {},
     "output_type": "execute_result"
    }
   ],
   "source": [
    "x_test=test[['bodyTemp','bodyPain','runnyNose','diffBreath','o2Saturation','travelHistory','age','LossofTasteSmell','vomiting','Diarrhea']].to_numpy()\n",
    "print(x_test)\n",
    "x_test.shape"
   ]
  },
  {
   "cell_type": "code",
   "execution_count": 16,
   "metadata": {},
   "outputs": [
    {
     "name": "stdout",
     "output_type": "stream",
     "text": [
      "[[ 98.35774456   0.           1.         ...   0.           0.\n",
      "    1.        ]\n",
      " [100.6018931    1.           1.         ...   0.           0.\n",
      "    1.        ]\n",
      " [101.5016629    0.           0.         ...   0.           0.\n",
      "    0.        ]\n",
      " ...\n",
      " [101.493547     1.           1.         ...   1.           0.\n",
      "    0.        ]\n",
      " [ 98.48271543   0.           1.         ...   0.           1.\n",
      "    1.        ]\n",
      " [ 99.50130631   0.           1.         ...   0.           0.\n",
      "    1.        ]]\n"
     ]
    },
    {
     "data": {
      "text/plain": [
       "(499, 10)"
      ]
     },
     "execution_count": 16,
     "metadata": {},
     "output_type": "execute_result"
    }
   ],
   "source": [
    "x_test=test[['bodyTemp','bodyPain','runnyNose','diffBreath','o2Saturation','travelHistory','age','LossofTasteSmell','vomiting','Diarrhea']].to_numpy()\n",
    "print(x_test)\n",
    "x_test.shape"
   ]
  },
  {
   "cell_type": "code",
   "execution_count": 17,
   "metadata": {},
   "outputs": [
    {
     "name": "stdout",
     "output_type": "stream",
     "text": [
      "[[ 98.35774456   0.           1.         ...   0.           0.\n",
      "    1.        ]\n",
      " [100.6018931    1.           1.         ...   0.           0.\n",
      "    1.        ]\n",
      " [101.5016629    0.           0.         ...   0.           0.\n",
      "    0.        ]\n",
      " ...\n",
      " [101.493547     1.           1.         ...   1.           0.\n",
      "    0.        ]\n",
      " [ 98.48271543   0.           1.         ...   0.           1.\n",
      "    1.        ]\n",
      " [ 99.50130631   0.           1.         ...   0.           0.\n",
      "    1.        ]]\n"
     ]
    },
    {
     "data": {
      "text/plain": [
       "(499, 10)"
      ]
     },
     "execution_count": 17,
     "metadata": {},
     "output_type": "execute_result"
    }
   ],
   "source": [
    "x_test=test[['bodyTemp','bodyPain','runnyNose','diffBreath','o2Saturation','travelHistory','age','LossofTasteSmell','vomiting','Diarrhea']].to_numpy()\n",
    "print(x_test)\n",
    "x_test.shape"
   ]
  },
  {
   "cell_type": "markdown",
   "metadata": {},
   "source": [
    "## Reshape the data\n"
   ]
  },
  {
   "cell_type": "code",
   "execution_count": 18,
   "metadata": {},
   "outputs": [],
   "source": [
    "y_test=test[['infectionProb']].to_numpy().reshape(499,)\n",
    "y_train=train[['infectionProb']].to_numpy().reshape(2000,)\n",
    "\n"
   ]
  },
  {
   "cell_type": "code",
   "execution_count": 19,
   "metadata": {},
   "outputs": [
    {
     "data": {
      "text/plain": [
       "array([0, 0, 0, ..., 0, 0, 0])"
      ]
     },
     "execution_count": 19,
     "metadata": {},
     "output_type": "execute_result"
    }
   ],
   "source": [
    "y_train"
   ]
  },
  {
   "cell_type": "code",
   "execution_count": 20,
   "metadata": {},
   "outputs": [
    {
     "data": {
      "text/plain": [
       "array([0, 1, 0, 1, 1, 1, 0, 1, 1, 1, 0, 1, 1, 1, 0, 0, 0, 0, 1, 1, 1, 1,\n",
       "       0, 0, 1, 1, 0, 0, 1, 1, 1, 0, 1, 0, 1, 1, 1, 0, 0, 0, 1, 1, 1, 0,\n",
       "       0, 1, 1, 0, 1, 0, 1, 0, 1, 1, 0, 1, 1, 0, 1, 1, 1, 1, 1, 0, 1, 0,\n",
       "       1, 1, 1, 0, 1, 0, 1, 1, 0, 0, 1, 1, 1, 0, 0, 1, 0, 0, 1, 0, 1, 0,\n",
       "       0, 1, 1, 1, 1, 0, 0, 1, 1, 0, 0, 1, 0, 0, 0, 1, 1, 0, 0, 0, 0, 1,\n",
       "       1, 1, 0, 1, 0, 1, 1, 0, 1, 1, 1, 1, 1, 0, 0, 0, 1, 1, 1, 1, 1, 0,\n",
       "       0, 1, 1, 0, 0, 1, 0, 1, 0, 1, 0, 0, 1, 0, 1, 1, 1, 0, 1, 0, 0, 1,\n",
       "       1, 1, 1, 1, 1, 1, 1, 0, 0, 1, 1, 0, 0, 0, 1, 0, 1, 0, 0, 0, 0, 1,\n",
       "       1, 1, 1, 0, 1, 1, 1, 1, 1, 0, 1, 1, 0, 1, 0, 1, 1, 1, 1, 0, 0, 1,\n",
       "       1, 0, 0, 0, 0, 1, 0, 0, 0, 0, 1, 1, 0, 1, 1, 1, 1, 1, 1, 0, 0, 0,\n",
       "       0, 1, 0, 0, 1, 1, 0, 1, 0, 1, 1, 0, 1, 0, 1, 0, 0, 1, 0, 0, 1, 1,\n",
       "       0, 1, 1, 1, 1, 0, 1, 0, 1, 0, 0, 1, 1, 0, 1, 0, 0, 0, 1, 1, 1, 1,\n",
       "       1, 1, 0, 1, 1, 0, 1, 0, 1, 0, 0, 0, 1, 0, 1, 0, 1, 1, 1, 0, 0, 1,\n",
       "       0, 1, 1, 1, 1, 0, 1, 0, 1, 0, 0, 1, 1, 1, 1, 1, 1, 1, 1, 0, 1, 1,\n",
       "       0, 0, 1, 0, 1, 0, 1, 1, 1, 0, 0, 0, 0, 1, 0, 0, 1, 1, 0, 1, 1, 1,\n",
       "       1, 1, 1, 0, 1, 1, 0, 1, 1, 1, 0, 1, 0, 0, 1, 0, 0, 1, 0, 0, 1, 1,\n",
       "       0, 0, 0, 0, 0, 0, 0, 0, 1, 1, 1, 1, 1, 1, 1, 1, 0, 0, 0, 0, 0, 1,\n",
       "       1, 0, 1, 0, 1, 0, 1, 0, 0, 0, 0, 1, 1, 0, 1, 1, 1, 1, 1, 0, 1, 1,\n",
       "       0, 0, 0, 1, 0, 1, 1, 0, 1, 1, 0, 0, 0, 1, 1, 0, 1, 1, 1, 1, 1, 1,\n",
       "       1, 1, 0, 0, 0, 1, 0, 0, 0, 0, 0, 1, 0, 1, 1, 1, 0, 0, 1, 0, 0, 1,\n",
       "       0, 0, 1, 0, 1, 0, 0, 1, 0, 1, 1, 1, 0, 1, 0, 1, 1, 0, 1, 1, 0, 0,\n",
       "       1, 1, 1, 0, 1, 1, 1, 1, 1, 0, 0, 0, 1, 0, 1, 1, 0, 1, 1, 0, 1, 0,\n",
       "       0, 1, 0, 0, 1, 1, 1, 1, 0, 0, 1, 1, 1, 0, 0])"
      ]
     },
     "execution_count": 20,
     "metadata": {},
     "output_type": "execute_result"
    }
   ],
   "source": [
    "y_test"
   ]
  },
  {
   "cell_type": "code",
   "execution_count": 21,
   "metadata": {},
   "outputs": [],
   "source": [
    "p1=[]"
   ]
  },
  {
   "cell_type": "markdown",
   "metadata": {},
   "source": [
    "# MODELING"
   ]
  },
  {
   "cell_type": "markdown",
   "metadata": {},
   "source": [
    "# NAIVE BAYES CLASSIFIER"
   ]
  },
  {
   "cell_type": "code",
   "execution_count": 22,
   "metadata": {},
   "outputs": [
    {
     "name": "stdout",
     "output_type": "stream",
     "text": [
      "[0 1 0 1 1 0 0 1 0 0 0 1 1 0 0 0 1 0 0 1 1 1 1 0 1 1 1 0 0 1 1 0 0 0 1 0 1\n",
      " 1 0 0 1 1 1 0 0 0 1 1 0 0 0 0 1 0 1 1 1 1 1 1 0 0 0 0 1 0 1 0 1 0 0 1 1 1\n",
      " 0 0 1 1 1 0 0 1 0 0 1 1 1 0 1 0 0 1 1 0 0 0 1 0 0 1 0 0 0 1 0 1 0 0 1 1 1\n",
      " 0 1 1 1 1 0 1 1 0 1 1 0 0 0 0 0 0 1 0 1 1 0 0 1 0 1 1 0 0 0 0 1 1 1 0 0 0\n",
      " 1 1 1 0 0 1 1 1 1 1 0 0 1 0 0 1 1 0 1 1 1 0 1 0 0 0 1 1 1 0 1 0 1 1 0 1 1\n",
      " 0 0 1 0 1 0 0 1 0 0 0 0 1 1 0 1 1 0 1 1 1 0 0 1 0 0 0 1 1 1 1 1 0 1 1 0 1\n",
      " 1 0 0 1 0 1 1 1 1 0 1 1 0 0 1 1 0 0 1 0 1 0 1 1 0 1 1 1 1 0 1 1 1 0 1 0 0\n",
      " 1 1 0 1 1 1 0 0 1 1 1 1 0 0 1 0 0 0 0 1 0 0 1 1 0 0 0 0 0 1 1 0 1 0 0 1 1\n",
      " 0 1 0 1 1 1 0 1 0 1 1 1 0 0 0 0 1 1 1 0 1 0 0 0 0 0 0 0 1 1 0 1 1 1 1 1 1\n",
      " 0 1 1 1 1 0 0 0 1 0 1 1 0 0 1 1 0 1 0 0 0 0 1 0 0 0 0 0 1 1 1 0 0 1 0 0 1\n",
      " 0 0 1 0 1 0 1 0 0 0 0 0 0 0 0 1 0 0 1 1 1 1 1 0 0 1 0 0 0 1 0 1 1 0 1 0 1\n",
      " 0 0 0 1 0 1 1 0 1 1 1 1 1 1 1 0 1 0 0 0 1 1 0 0 1 1 1 0 1 1 0 0 1 1 0 1 1\n",
      " 0 0 1 0 0 0 1 1 0 1 1 1 1 0 0 1 1 0 1 1 1 1 0 0 1 0 1 0 0 0 0 1 1 1 1 0 1\n",
      " 0 1 0 0 0 0 0 1 1 1 0 0 0 0 1 1 1 0]\n"
     ]
    }
   ],
   "source": [
    "from sklearn.naive_bayes import GaussianNB\n",
    "\n",
    "#Create a Gaussian Classifier\n",
    "model = GaussianNB()\n",
    "\n",
    "# Train the model using the training sets\n",
    "model.fit(x_train,y_train)\n",
    "\n",
    "#Predict Output\n",
    "y_pred1= model.predict(x_test) \n",
    "print(y_pred1)\n"
   ]
  },
  {
   "cell_type": "code",
   "execution_count": 23,
   "metadata": {},
   "outputs": [
    {
     "name": "stdout",
     "output_type": "stream",
     "text": [
      "confusion matrix for naive bayes classifier is\n",
      "  [[155  65]\n",
      " [ 91 188]] \n",
      "\n",
      "\n",
      "              precision    recall  f1-score   support\n",
      "\n",
      "           0       0.63      0.70      0.67       220\n",
      "           1       0.74      0.67      0.71       279\n",
      "\n",
      "    accuracy                           0.69       499\n",
      "   macro avg       0.69      0.69      0.69       499\n",
      "weighted avg       0.69      0.69      0.69       499\n",
      "\n",
      "accuracy for naive bayes classifier is : 0.687374749498998\n"
     ]
    },
    {
     "data": {
      "image/png": "[encoded data removed]",
      "text/plain": [
       "<Figure size 1440x288 with 1 Axes>"
      ]
     },
     "metadata": {
      "needs_background": "light"
     },
     "output_type": "display_data"
    }
   ],
   "source": [
    "matrix = confusion_matrix(y_test,y_pred1)\n",
    "report = classification_report(y_test,y_pred1)\n",
    "from sklearn.metrics import accuracy_score\n",
    "s1=accuracy_score(y_test,y_pred1)\n",
    "\n",
    "print(\"confusion matrix for naive bayes classifier is\\n \", matrix, \"\\n\\n\")\n",
    "print(report)\n",
    "print(\"accuracy for naive bayes classifier is :\",s1)\n",
    "\n",
    "nb1=[]\n",
    "nb2=['True-Positive','True-Negative','False-Positive','False-Negative']\n",
    "nb1.append(matrix[0][0])\n",
    "nb1.append(matrix[0][1])\n",
    "nb1.append(matrix[1][0])\n",
    "nb1.append(matrix[1][1])\n",
    "plt.figure(figsize=(20,4))\n",
    "plt.bar(nb2,nb1,width=0.4,color=['orange','blue','Red','green'])\n",
    "\n",
    "plt.show()"
   ]
  },
  {
   "cell_type": "markdown",
   "metadata": {},
   "source": [
    "# SUPPORT VECTOR MACHINE"
   ]
  },
  {
   "cell_type": "code",
   "execution_count": 33,
   "metadata": {},
   "outputs": [
    {
     "name": "stdout",
     "output_type": "stream",
     "text": [
      "[0 1 0 1 1 1 0 1 0 0 0 1 1 0 0 0 1 0 0 1 1 1 1 0 1 1 1 0 0 1 1 0 0 0 1 0 1\n",
      " 1 0 0 1 1 0 0 0 0 1 1 0 0 0 0 1 0 1 1 0 1 1 1 0 0 0 0 1 0 1 0 1 0 0 0 1 1\n",
      " 0 0 1 1 1 0 0 1 0 0 1 1 1 0 1 0 0 1 1 0 0 1 1 0 0 1 0 0 0 1 0 1 0 0 1 1 1\n",
      " 0 1 1 1 1 0 1 1 0 1 1 1 0 0 0 0 0 1 0 1 1 0 0 1 0 1 1 0 0 0 0 1 1 1 0 0 1\n",
      " 1 1 1 0 0 1 1 1 1 1 0 0 1 0 0 1 1 0 1 1 1 0 1 0 0 0 1 1 1 0 1 0 1 1 0 1 1\n",
      " 0 1 1 0 1 0 1 1 1 0 0 0 1 1 0 1 1 0 1 1 1 0 0 1 0 0 0 1 1 1 1 1 0 1 1 0 1\n",
      " 1 0 0 1 0 1 1 1 1 0 1 1 0 0 1 1 0 0 1 0 1 1 1 1 1 1 1 1 1 0 1 1 1 0 1 0 0\n",
      " 1 1 0 1 1 1 0 0 1 1 1 1 0 0 1 0 0 0 0 1 0 0 1 1 0 0 0 0 0 1 1 0 1 0 0 1 1\n",
      " 0 1 0 1 1 1 0 1 1 0 1 1 0 0 1 0 1 1 1 0 1 0 0 0 0 0 0 0 1 1 0 1 1 1 1 1 1\n",
      " 0 1 1 1 1 1 1 0 1 0 1 1 0 0 1 1 0 1 0 0 0 0 1 0 0 0 0 0 1 1 1 0 0 1 0 0 1\n",
      " 0 0 1 0 1 0 1 0 0 0 0 0 0 0 0 1 0 0 1 1 1 1 1 0 0 1 0 0 0 1 0 1 1 0 1 0 0\n",
      " 0 0 1 1 0 1 1 1 1 1 1 1 1 1 1 0 1 0 0 0 1 1 0 0 1 1 1 0 1 1 0 0 1 1 0 1 1\n",
      " 0 0 1 0 0 1 1 1 0 1 1 1 1 0 0 1 1 0 1 1 1 1 0 0 1 1 1 0 0 0 1 1 1 1 1 0 1\n",
      " 0 1 0 0 0 0 0 1 1 1 0 0 0 0 1 1 1 0]\n"
     ]
    }
   ],
   "source": [
    "from sklearn import svm\n",
    "\n",
    "#Create a svm Classifier\n",
    "clf = svm.SVC(kernel='linear') # Linear Kernel\n",
    "\n",
    "#Train the model using the training sets\n",
    "clf.fit(x_train, y_train)\n",
    "\n",
    "#Predict the response for test dataset\n",
    "y_pred2 = clf.predict(x_test)\n",
    "print(y_pred2)\n"
   ]
  },
  {
   "cell_type": "code",
   "execution_count": 34,
   "metadata": {},
   "outputs": [
    {
     "name": "stdout",
     "output_type": "stream",
     "text": [
      "confusion matrix support vector machine is \n",
      "  [[158  62]\n",
      " [ 75 204]] \n",
      "\n",
      "\n",
      "              precision    recall  f1-score   support\n",
      "\n",
      "           0       0.68      0.72      0.70       220\n",
      "           1       0.77      0.73      0.75       279\n",
      "\n",
      "    accuracy                           0.73       499\n",
      "   macro avg       0.72      0.72      0.72       499\n",
      "weighted avg       0.73      0.73      0.73       499\n",
      "\n",
      "accuracy for support vector machine is : 0.7254509018036072\n"
     ]
    },
    {
     "data": {
      "image/png": "[encoded data removed]",
      "text/plain": [
       "<Figure size 1440x288 with 1 Axes>"
      ]
     },
     "metadata": {
      "needs_background": "light"
     },
     "output_type": "display_data"
    }
   ],
   "source": [
    "\n",
    "s2=accuracy_score(y_test,y_pred2)\n",
    "matrix = confusion_matrix(y_test,y_pred2)\n",
    "report = classification_report(y_test,y_pred2)\n",
    "\n",
    "print(\"confusion matrix support vector machine is \\n \", matrix, \"\\n\\n\")\n",
    "print(report)\n",
    "print(\"accuracy for support vector machine is :\",s2)\n",
    "\n",
    "svm1=[]\n",
    "svm2=['True-Positive','True-Negative','False-Positive','False-Negative']\n",
    "svm1.append(matrix[0][0])\n",
    "svm1.append(matrix[0][1])\n",
    "svm1.append(matrix[1][0])\n",
    "svm1.append(matrix[1][1])\n",
    "plt.figure(figsize=(20,4))\n",
    "plt.bar(svm2,svm1,width=0.4,color=['orange','blue','Red','green'])\n",
    "\n",
    "plt.show()"
   ]
  },
  {
   "cell_type": "markdown",
   "metadata": {},
   "source": [
    "## LogisticRegression"
   ]
  },
  {
   "cell_type": "code",
   "execution_count": 87,
   "metadata": {},
   "outputs": [
    {
     "name": "stdout",
     "output_type": "stream",
     "text": [
      "[0 1 0 1 1 1 0 1 0 0 0 1 1 1 0 0 1 0 0 1 1 1 1 0 1 1 1 0 0 1 1 0 0 0 1 1 1\n",
      " 1 0 0 1 1 0 0 0 0 1 1 1 0 0 0 1 1 1 1 1 1 1 1 0 0 0 0 1 0 1 0 1 0 0 0 1 1\n",
      " 0 0 1 1 1 0 0 1 0 0 1 1 1 0 1 0 0 1 1 0 0 1 1 0 0 1 0 0 0 1 0 1 1 0 1 1 1\n",
      " 0 1 1 1 1 1 1 1 0 1 1 1 0 0 0 0 0 1 1 1 1 0 0 1 0 1 1 0 0 0 0 1 1 1 0 0 1\n",
      " 1 1 1 1 0 0 1 1 1 1 0 0 1 0 0 1 1 0 1 1 1 0 1 0 0 0 1 1 1 0 1 0 1 1 0 1 1\n",
      " 0 1 1 0 1 0 1 1 1 0 0 0 1 1 0 1 1 0 1 1 1 0 0 1 0 0 0 1 1 1 1 1 0 1 1 0 1\n",
      " 1 0 0 1 0 1 1 1 1 0 1 1 0 0 1 1 0 1 1 1 1 1 1 1 1 1 1 1 1 0 1 1 1 0 1 1 0\n",
      " 1 1 0 1 1 1 0 0 1 1 1 1 0 0 1 0 0 0 0 1 0 0 1 1 0 0 0 0 1 1 1 0 1 0 0 1 1\n",
      " 0 1 0 1 1 1 0 1 1 0 1 1 0 0 1 0 1 1 1 0 1 1 0 0 0 0 0 0 1 1 0 1 1 1 1 1 1\n",
      " 0 1 1 1 1 1 1 0 1 0 1 1 0 0 1 1 0 1 0 0 0 0 1 0 0 0 0 0 1 1 1 0 0 1 0 0 1\n",
      " 0 0 1 0 1 0 1 0 0 0 0 0 0 0 0 1 1 0 1 1 1 1 1 0 1 1 0 0 0 1 1 0 1 0 1 1 0\n",
      " 0 0 0 1 0 1 1 1 1 1 1 1 1 1 1 0 1 0 0 0 1 1 0 0 1 1 1 0 1 1 1 0 1 1 0 1 1\n",
      " 0 0 1 0 0 1 1 1 0 1 1 1 1 0 0 1 1 0 1 1 1 1 1 1 1 1 1 0 0 0 1 0 1 1 1 0 1\n",
      " 0 1 0 0 0 0 0 1 1 1 0 0 0 1 1 1 1 0]\n"
     ]
    }
   ],
   "source": [
    "from sklearn.linear_model import LogisticRegression\n",
    "classifier = LogisticRegression()\n",
    "classifier.fit(x_train,y_train)\n",
    "y_pred3=classifier.predict(x_test)\n",
    "print(y_pred3)\n"
   ]
  },
  {
   "cell_type": "code",
   "execution_count": 88,
   "metadata": {},
   "outputs": [
    {
     "name": "stdout",
     "output_type": "stream",
     "text": [
      "confusion matrix\n",
      " [[152  68]\n",
      " [ 63 216]] \n",
      "\n",
      "Accuracy of logistic regression model = 0.7374749498997996 \n",
      "\n",
      "\n",
      "              precision    recall  f1-score   support\n",
      "\n",
      "           0       0.71      0.69      0.70       220\n",
      "           1       0.76      0.77      0.77       279\n",
      "\n",
      "    accuracy                           0.74       499\n",
      "   macro avg       0.73      0.73      0.73       499\n",
      "weighted avg       0.74      0.74      0.74       499\n",
      "\n"
     ]
    },
    {
     "data": {
      "image/png": "[encoded data removed]",
      "text/plain": [
       "<Figure size 1440x288 with 1 Axes>"
      ]
     },
     "metadata": {
      "needs_background": "light"
     },
     "output_type": "display_data"
    }
   ],
   "source": [
    "cm = confusion_matrix(y_test,y_pred3)\n",
    "print(\"confusion matrix\\n\",cm,\"\\n\")\n",
    "s3=accuracy_score(y_test,y_pred3)\n",
    "print(\"Accuracy of logistic regression model =\" ,s3,\"\\n\\n\")\n",
    "report = classification_report(y_test, y_pred3)\n",
    "print(report)\n",
    "\n",
    "lr1=[]\n",
    "lr2=['True-Positive','True-Negative','False-Positive','False-Negative']\n",
    "lr1.append(cm[0][0])\n",
    "lr1.append(cm[0][1])\n",
    "lr1.append(cm[1][0])\n",
    "lr1.append(cm[1][1])\n",
    "plt.figure(figsize=(20,4))\n",
    "plt.bar(lr2,lr1,width=0.4,color=['orange','blue','Red','green'])\n",
    "\n",
    "plt.show()"
   ]
  },
  {
   "cell_type": "markdown",
   "metadata": {},
   "source": [
    "# Random Forest  Classifier"
   ]
  },
  {
   "cell_type": "code",
   "execution_count": 89,
   "metadata": {},
   "outputs": [
    {
     "name": "stdout",
     "output_type": "stream",
     "text": [
      "[0 1 0 1 1 1 0 1 1 1 0 1 1 1 0 0 0 0 1 1 1 1 0 0 1 1 0 0 1 0 1 0 1 0 1 1 1\n",
      " 0 0 0 1 1 1 0 0 1 1 0 1 1 1 0 1 1 1 1 0 0 1 1 1 1 1 0 1 0 1 0 0 0 1 1 1 1\n",
      " 0 0 0 1 1 0 0 1 0 0 0 0 1 0 0 1 1 1 1 0 0 1 1 0 0 0 0 0 0 1 1 0 1 1 0 1 1\n",
      " 1 0 1 0 1 1 0 1 1 1 1 0 0 0 0 1 1 1 1 1 0 0 1 1 0 0 1 0 1 0 1 0 0 1 0 1 1\n",
      " 1 1 1 0 0 0 1 1 1 1 1 1 1 0 0 1 1 0 0 0 1 0 1 0 0 0 0 1 1 1 1 0 1 1 1 1 1\n",
      " 0 1 1 0 1 0 1 1 1 1 0 0 0 1 0 0 1 0 1 1 0 0 0 1 1 0 1 1 1 1 1 1 0 0 0 0 1\n",
      " 0 0 1 1 0 1 0 1 1 0 1 0 0 0 0 1 0 0 1 1 1 1 1 1 1 1 1 0 1 0 0 1 1 0 1 0 0\n",
      " 1 1 0 1 1 1 1 0 1 1 0 1 0 1 1 0 1 1 0 1 0 0 1 1 0 0 1 0 1 1 1 0 0 1 0 1 0\n",
      " 0 1 1 1 1 1 1 1 1 1 1 1 0 0 1 0 0 0 1 1 1 0 0 0 0 1 0 0 1 0 0 1 1 1 1 1 0\n",
      " 0 1 1 0 1 0 1 0 1 0 1 1 0 0 1 0 0 1 1 0 0 0 1 0 0 0 0 1 1 0 1 1 1 0 1 0 0\n",
      " 0 0 1 1 1 0 1 0 1 0 1 0 0 0 0 1 1 0 0 1 0 1 1 0 1 1 0 0 0 1 0 1 1 0 1 1 1\n",
      " 0 0 0 0 0 1 1 1 1 1 1 1 1 0 1 1 1 0 0 0 0 1 1 0 1 1 1 0 0 1 0 0 1 1 0 1 0\n",
      " 1 0 0 1 0 1 1 1 1 1 0 1 1 0 1 1 0 0 0 1 1 0 0 1 1 1 1 0 0 0 1 1 1 1 1 1 1\n",
      " 0 1 0 0 1 0 0 0 1 1 1 0 0 1 1 1 0 0]\n"
     ]
    }
   ],
   "source": [
    "from sklearn.ensemble import RandomForestClassifier\n",
    "rfc1=RandomForestClassifier(n_estimators= 100)\n",
    "rfc1.fit(x_train, y_train)\n",
    "y_pred4=rfc1.predict(x_test)\n",
    "print(y_pred4)\n"
   ]
  },
  {
   "cell_type": "code",
   "execution_count": 90,
   "metadata": {},
   "outputs": [
    {
     "name": "stdout",
     "output_type": "stream",
     "text": [
      "confusion matrix\n",
      " [[195  25]\n",
      " [ 27 252]] \n",
      "\n",
      "Accuracy of Random forest model = 0.8957915831663327 \n",
      "\n",
      "\n",
      "              precision    recall  f1-score   support\n",
      "\n",
      "           0       0.88      0.89      0.88       220\n",
      "           1       0.91      0.90      0.91       279\n",
      "\n",
      "    accuracy                           0.90       499\n",
      "   macro avg       0.89      0.89      0.89       499\n",
      "weighted avg       0.90      0.90      0.90       499\n",
      "\n"
     ]
    },
    {
     "data": {
      "image/png": "[encoded data removed]",
      "text/plain": [
       "<Figure size 1440x288 with 1 Axes>"
      ]
     },
     "metadata": {
      "needs_background": "light"
     },
     "output_type": "display_data"
    }
   ],
   "source": [
    "\n",
    "cm = confusion_matrix(y_test,y_pred4)\n",
    "print(\"confusion matrix\\n\",cm,\"\\n\")\n",
    "\n",
    "s4=accuracy_score(y_test,y_pred4)\n",
    "print(\"Accuracy of Random forest model =\" ,s4,\"\\n\\n\")\n",
    "report = classification_report(y_test, y_pred4)\n",
    "print(report)\n",
    "\n",
    "rfc1=[]\n",
    "rfc2=['True-Positive','True-Negative','False-Positive','False-Negative']\n",
    "rfc1.append(cm[0][0])\n",
    "rfc1.append(cm[0][1])\n",
    "rfc1.append(cm[1][0])\n",
    "rfc1.append(cm[1][1])\n",
    "plt.figure(figsize=(20,4))\n",
    "plt.bar(rfc2,rfc1,width=0.4,color=['orange','blue','Red','green'])\n",
    "\n",
    "plt.show()"
   ]
  },
  {
   "cell_type": "markdown",
   "metadata": {},
   "source": [
    "# DECISION TREE "
   ]
  },
  {
   "cell_type": "code",
   "execution_count": 91,
   "metadata": {},
   "outputs": [
    {
     "name": "stdout",
     "output_type": "stream",
     "text": [
      "[0 1 0 1 1 1 0 1 1 1 0 1 1 1 0 0 1 0 1 1 1 1 0 0 1 1 0 0 1 1 1 0 1 0 1 1 1\n",
      " 0 0 0 1 1 1 0 0 1 1 1 1 1 1 0 1 1 1 1 0 0 1 1 1 1 1 0 1 0 1 0 1 0 1 0 1 1\n",
      " 0 0 0 1 1 0 0 1 0 0 0 0 1 0 0 1 1 1 1 0 0 1 1 0 0 1 0 0 0 1 1 0 1 0 0 1 1\n",
      " 1 0 1 0 1 1 0 1 1 0 1 0 0 0 0 1 1 1 1 1 0 0 1 1 0 1 1 0 1 0 1 0 0 1 0 1 1\n",
      " 1 1 1 0 0 1 1 1 1 1 1 1 1 0 0 1 1 0 0 1 1 0 1 0 0 0 0 1 1 1 1 0 1 1 1 1 1\n",
      " 0 1 1 0 1 0 1 1 1 1 0 0 1 1 0 0 1 0 1 0 0 0 0 1 1 0 1 1 1 1 1 1 0 0 0 0 0\n",
      " 0 0 1 1 0 1 0 1 1 0 1 0 0 0 0 1 0 0 1 1 1 1 1 1 1 1 1 0 1 0 0 1 1 0 1 0 0\n",
      " 1 1 0 1 1 1 1 0 1 1 0 1 0 1 1 0 1 1 0 1 0 0 1 1 0 0 1 0 1 1 1 0 0 1 0 1 0\n",
      " 0 1 1 1 1 1 1 1 1 0 1 1 0 0 1 0 1 1 1 1 1 0 0 0 0 1 0 0 1 1 0 1 1 0 1 1 0\n",
      " 0 1 1 0 1 0 1 0 1 0 1 1 0 0 1 0 0 1 1 0 0 0 0 0 0 0 0 1 1 0 1 1 0 0 1 0 0\n",
      " 0 0 0 1 1 0 1 0 1 0 1 0 0 0 0 1 1 0 0 1 1 1 1 0 1 1 0 0 0 1 0 1 1 0 1 1 0\n",
      " 0 0 0 0 0 1 1 1 1 1 1 1 1 0 1 1 1 0 0 0 0 1 1 0 1 1 1 0 0 1 0 0 1 1 0 1 1\n",
      " 1 0 1 1 0 1 1 1 1 1 0 1 1 0 1 1 0 0 0 1 1 0 0 1 1 1 1 0 0 0 1 1 1 0 0 1 1\n",
      " 0 1 0 0 1 0 0 1 1 1 1 0 0 1 1 1 0 0]\n"
     ]
    }
   ],
   "source": [
    "from sklearn.tree import DecisionTreeClassifier\n",
    "classifier = DecisionTreeClassifier()\n",
    "classifier.fit(x_train,y_train)\n",
    "y_pred5=classifier.predict(x_test)\n",
    "print(y_pred5)\n"
   ]
  },
  {
   "cell_type": "code",
   "execution_count": 92,
   "metadata": {},
   "outputs": [
    {
     "name": "stdout",
     "output_type": "stream",
     "text": [
      "confusion matrix for decision tree is\n",
      "  [[196  24]\n",
      " [ 23 256]] \n",
      "\n",
      "\n",
      "              precision    recall  f1-score   support\n",
      "\n",
      "           0       0.89      0.89      0.89       220\n",
      "           1       0.91      0.92      0.92       279\n",
      "\n",
      "    accuracy                           0.91       499\n",
      "   macro avg       0.90      0.90      0.90       499\n",
      "weighted avg       0.91      0.91      0.91       499\n",
      "\n",
      "accuracy for decision tree is : 0.905811623246493\n"
     ]
    },
    {
     "data": {
      "image/png": "[encoded data removed]",
      "text/plain": [
       "<Figure size 1440x288 with 1 Axes>"
      ]
     },
     "metadata": {
      "needs_background": "light"
     },
     "output_type": "display_data"
    }
   ],
   "source": [
    "matrix = confusion_matrix(y_test,y_pred5)\n",
    "report = classification_report(y_test,y_pred5)\n",
    "s5=accuracy_score(y_test,y_pred5)\n",
    "print(\"confusion matrix for decision tree is\\n \", matrix, \"\\n\\n\")\n",
    "print(report)\n",
    "print(\"accuracy for decision tree is :\",s5)\n",
    "\n",
    "dt1=[]\n",
    "dt2=['True-Positive','True-Negative','False-Positive','False-Negative']\n",
    "dt1.append(matrix[0][0])\n",
    "dt1.append(matrix[0][1])\n",
    "dt1.append(matrix[1][0])\n",
    "dt1.append(matrix[1][1])\n",
    "plt.figure(figsize=(20,4))\n",
    "plt.bar(dt2,dt1,width=0.4,color=['orange','blue','Red','green'])\n",
    "\n",
    "plt.show()"
   ]
  },
  {
   "cell_type": "markdown",
   "metadata": {},
   "source": [
    "# K NEAREST NEIGHBHOR"
   ]
  },
  {
   "cell_type": "code",
   "execution_count": 93,
   "metadata": {},
   "outputs": [
    {
     "name": "stdout",
     "output_type": "stream",
     "text": [
      "[0 1 0 1 1 1 0 1 1 1 0 1 1 1 0 0 1 0 1 1 1 1 1 0 1 1 1 0 1 1 1 0 1 0 1 1 1\n",
      " 0 0 0 1 1 1 0 0 1 1 0 1 1 1 0 1 1 1 1 0 0 1 1 1 1 1 0 1 0 1 1 1 0 1 0 1 1\n",
      " 0 0 1 1 1 0 0 1 0 0 1 0 1 0 1 1 1 1 1 0 0 1 1 0 0 1 0 0 0 1 1 0 1 1 0 1 1\n",
      " 1 0 1 0 1 1 0 0 1 1 1 0 0 0 0 1 0 1 1 1 0 0 1 1 0 0 1 0 1 0 1 1 0 1 0 1 1\n",
      " 1 0 1 0 0 1 1 1 1 1 1 1 1 0 0 1 1 0 0 1 1 0 1 0 0 0 0 1 1 1 1 0 1 1 1 1 1\n",
      " 0 1 1 1 1 0 1 1 1 1 0 0 0 1 0 0 1 0 1 1 0 0 0 1 1 0 1 1 1 1 1 1 0 0 0 0 1\n",
      " 0 0 1 1 0 1 0 1 1 0 1 0 1 0 1 1 0 0 1 1 1 1 1 1 1 1 1 1 1 0 0 1 1 0 1 0 0\n",
      " 0 1 0 1 1 1 1 0 1 1 0 1 0 1 1 0 1 1 0 1 0 1 1 1 0 0 0 0 1 1 1 0 0 1 0 1 0\n",
      " 0 1 1 1 1 1 1 1 1 1 1 1 0 0 1 0 0 1 1 1 1 0 0 0 0 1 0 0 1 1 0 1 1 1 1 1 1\n",
      " 0 1 1 0 1 1 1 0 1 0 1 1 0 0 1 0 0 1 1 0 0 0 1 0 0 0 0 1 1 1 1 1 1 0 1 0 0\n",
      " 0 0 1 1 1 0 1 0 1 0 1 0 0 0 0 1 1 0 1 1 1 1 1 0 1 1 0 0 0 1 0 1 1 0 1 1 0\n",
      " 0 0 1 1 0 1 1 1 1 1 1 1 1 0 1 1 1 0 0 0 1 1 1 0 1 1 1 0 0 1 0 0 1 0 0 1 1\n",
      " 1 0 0 1 0 1 1 1 0 1 1 1 1 0 1 1 0 0 1 1 1 0 1 1 1 1 1 0 0 0 1 1 1 1 1 1 1\n",
      " 0 1 0 0 1 0 0 0 1 1 1 0 0 1 1 1 1 0]\n"
     ]
    }
   ],
   "source": [
    "import numpy as np\n",
    "import pandas as pd\n",
    "from sklearn import neighbors, metrics\n",
    "from sklearn.model_selection import train_test_split\n",
    "from sklearn import datasets\n",
    "knn=neighbors.KNeighborsClassifier(n_neighbors=15,weights='uniform')\n",
    "knn.fit(x_train,y_train)\n",
    "prediction=knn.predict(x_test)\n",
    "\n",
    "print(prediction)"
   ]
  },
  {
   "cell_type": "code",
   "execution_count": 95,
   "metadata": {},
   "outputs": [
    {
     "name": "stdout",
     "output_type": "stream",
     "text": [
      "confusion matrix for knn is\n",
      "  [[187  33]\n",
      " [ 11 268]] \n",
      "\n",
      "\n",
      "              precision    recall  f1-score   support\n",
      "\n",
      "           0       0.94      0.85      0.89       220\n",
      "           1       0.89      0.96      0.92       279\n",
      "\n",
      "    accuracy                           0.91       499\n",
      "   macro avg       0.92      0.91      0.91       499\n",
      "weighted avg       0.91      0.91      0.91       499\n",
      "\n",
      "accuracy for knn is : 0.9118236472945892\n"
     ]
    },
    {
     "data": {
      "image/png": "[encoded data removed]",
      "text/plain": [
       "<Figure size 1440x288 with 1 Axes>"
      ]
     },
     "metadata": {
      "needs_background": "light"
     },
     "output_type": "display_data"
    }
   ],
   "source": [
    "s6=accuracy_score(y_test,prediction)\n",
    "matrix = confusion_matrix(y_test,prediction)\n",
    "report = classification_report(y_test,prediction)\n",
    "\n",
    "print(\"confusion matrix for knn is\\n \", matrix, \"\\n\\n\")\n",
    "print(report)\n",
    "print(\"accuracy for knn is :\",s6)\n",
    "\n",
    "knn1=[]\n",
    "knn2=['True-Positive','True-Negative','False-Positive','False-Negative']\n",
    "knn1.append(matrix[0][0])\n",
    "knn1.append(matrix[0][1])\n",
    "knn1.append(matrix[1][0])\n",
    "knn1.append(matrix[1][1])\n",
    "plt.figure(figsize=(20,4))\n",
    "plt.bar(knn2,knn1,width=0.4,color=['orange','blue','Red','green'])\n",
    "\n",
    "plt.show()"
   ]
  },
  {
   "cell_type": "code",
   "execution_count": 96,
   "metadata": {},
   "outputs": [],
   "source": [
    "p1=[]"
   ]
  },
  {
   "cell_type": "code",
   "execution_count": 97,
   "metadata": {},
   "outputs": [],
   "source": [
    "p1.append(s1)\n",
    "p1.append(s2)\n",
    "p1.append(s3)\n",
    "p1.append(s4)\n",
    "p1.append(s5)\n",
    "p1.append(0.9104)\n",
    "p1.append(s6)\n"
   ]
  },
  {
   "cell_type": "code",
   "execution_count": 98,
   "metadata": {},
   "outputs": [],
   "source": [
    "p2=['Naive bayes classification','Support vector machine','Logistic regression','Random forest ','Decision tree','ANN','KNN']"
   ]
  },
  {
   "cell_type": "markdown",
   "metadata": {},
   "source": [
    "# ACCURACY COMPARISION"
   ]
  },
  {
   "cell_type": "code",
   "execution_count": 99,
   "metadata": {},
   "outputs": [
    {
     "data": {
      "image/png": "[encoded data removed]",
      "text/plain": [
       "<Figure size 1440x432 with 1 Axes>"
      ]
     },
     "metadata": {
      "needs_background": "light"
     },
     "output_type": "display_data"
    }
   ],
   "source": [
    "plt.figure(figsize=(20,6))\n",
    "plt.bar(p2,p1,width=0.4,color=['orange','blue','Red','green','yellow','purple','Silver'])\n",
    "plt.xlabel('Algorithms')\n",
    "plt.ylabel(' Accuracy')\n",
    "plt.show()\n"
   ]
  },
  {
   "cell_type": "code",
   "execution_count": null,
   "metadata": {},
   "outputs": [],
   "source": []
  }
 ],
 "metadata": {
  "kernelspec": {
   "display_name": "Python 3",
   "language": "python",
   "name": "python3"
  },
  "language_info": {
   "codemirror_mode": {
    "name": "ipython",
    "version": 3
   },
   "file_extension": ".py",
   "mimetype": "text/x-python",
   "name": "python",
   "nbconvert_exporter": "python",
   "pygments_lexer": "ipython3",
   "version": "3.6.12"
  }
 },
 "nbformat": 4,
 "nbformat_minor": 4
}
